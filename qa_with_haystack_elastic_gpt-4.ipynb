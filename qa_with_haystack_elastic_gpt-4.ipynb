{
 "cells": [
  {
   "cell_type": "code",
   "execution_count": 1,
   "metadata": {},
   "outputs": [],
   "source": [
    "import logging\n",
    "\n",
    "logging.basicConfig(format=\"%(levelname)s - %(name)s -  %(message)s\", level=logging.WARNING)\n",
    "logging.getLogger(\"haystack\").setLevel(logging.INFO)"
   ]
  },
  {
   "cell_type": "code",
   "execution_count": 5,
   "metadata": {},
   "outputs": [],
   "source": [
    "import os\n",
    "import pandas as pd"
   ]
  },
  {
   "cell_type": "markdown",
   "metadata": {},
   "source": [
    "## Create All Steps with OpenAI Models"
   ]
  },
  {
   "cell_type": "code",
   "execution_count": 6,
   "metadata": {},
   "outputs": [],
   "source": [
    "# Gather openai api key\n",
    "openai_api_key = os.getenv(\"OPENAI_API_KEY\")"
   ]
  },
  {
   "cell_type": "code",
   "execution_count": 7,
   "metadata": {},
   "outputs": [
    {
     "data": {
      "text/html": [
       "<div>\n",
       "<style scoped>\n",
       "    .dataframe tbody tr th:only-of-type {\n",
       "        vertical-align: middle;\n",
       "    }\n",
       "\n",
       "    .dataframe tbody tr th {\n",
       "        vertical-align: top;\n",
       "    }\n",
       "\n",
       "    .dataframe thead th {\n",
       "        text-align: right;\n",
       "    }\n",
       "</style>\n",
       "<table border=\"1\" class=\"dataframe\">\n",
       "  <thead>\n",
       "    <tr style=\"text-align: right;\">\n",
       "      <th></th>\n",
       "      <th>id</th>\n",
       "      <th>title</th>\n",
       "      <th>genres</th>\n",
       "      <th>original_language</th>\n",
       "      <th>overview</th>\n",
       "      <th>popularity</th>\n",
       "      <th>production_companies</th>\n",
       "      <th>release_date</th>\n",
       "      <th>budget</th>\n",
       "      <th>revenue</th>\n",
       "      <th>runtime</th>\n",
       "      <th>status</th>\n",
       "      <th>tagline</th>\n",
       "      <th>vote_average</th>\n",
       "      <th>vote_count</th>\n",
       "      <th>credits</th>\n",
       "      <th>keywords</th>\n",
       "      <th>poster_path</th>\n",
       "      <th>backdrop_path</th>\n",
       "      <th>recommendations</th>\n",
       "    </tr>\n",
       "  </thead>\n",
       "  <tbody>\n",
       "    <tr>\n",
       "      <th>0</th>\n",
       "      <td>76600</td>\n",
       "      <td>Avatar: The Way of Water</td>\n",
       "      <td>Science Fiction-Adventure-Action</td>\n",
       "      <td>en</td>\n",
       "      <td>Set more than a decade after the events of the first film learn the story of...</td>\n",
       "      <td>9366.788</td>\n",
       "      <td>20th Century Studios-Lightstorm Entertainment</td>\n",
       "      <td>2022-12-14</td>\n",
       "      <td>350000000.0</td>\n",
       "      <td>2.312336e+09</td>\n",
       "      <td>192.0</td>\n",
       "      <td>Released</td>\n",
       "      <td>Return to Pandora.</td>\n",
       "      <td>7.751</td>\n",
       "      <td>6748.0</td>\n",
       "      <td>Sam Worthington-Zoe Saldaña-Sigourney Weaver-Stephen Lang-Kate Winslet-Cliff...</td>\n",
       "      <td>loss of loved one-dying and death-alien life-form-resurrection-sequel-dysfun...</td>\n",
       "      <td>/t6HIqrRAclMCA60NsSmeqe9RmNV.jpg</td>\n",
       "      <td>/s16H6tpK2utvwDtzZ8Qy4qm5Emw.jpg</td>\n",
       "      <td>183392-111332-702432-505642-1064215-436270-874764-613200-315162-965839-10138...</td>\n",
       "    </tr>\n",
       "    <tr>\n",
       "      <th>1</th>\n",
       "      <td>502356</td>\n",
       "      <td>The Super Mario Bros. Movie</td>\n",
       "      <td>Animation-Adventure-Family-Fantasy-Comedy</td>\n",
       "      <td>en</td>\n",
       "      <td>While working underground to fix a water main Brooklyn plumbers—and brothers...</td>\n",
       "      <td>5132.098</td>\n",
       "      <td>Universal Pictures-Illumination-Nintendo</td>\n",
       "      <td>2023-04-05</td>\n",
       "      <td>100000000.0</td>\n",
       "      <td>5.800000e+07</td>\n",
       "      <td>92.0</td>\n",
       "      <td>Released</td>\n",
       "      <td>NaN</td>\n",
       "      <td>7.556</td>\n",
       "      <td>332.0</td>\n",
       "      <td>Chris Pratt-Anya Taylor-Joy-Charlie Day-Jack Black-Keegan-Michael Key-Seth R...</td>\n",
       "      <td>video game-plumber-magic mushroom-based on video game-aftercreditsstinger-du...</td>\n",
       "      <td>/qNBAXBIQlnOThrVvA6mA2B5ggV6.jpg</td>\n",
       "      <td>/iw0Na1UBHgA5BgifwmQ8vKhlWgA.jpg</td>\n",
       "      <td>NaN</td>\n",
       "    </tr>\n",
       "    <tr>\n",
       "      <th>2</th>\n",
       "      <td>640146</td>\n",
       "      <td>Ant-Man and the Wasp: Quantumania</td>\n",
       "      <td>Action-Adventure-Science Fiction</td>\n",
       "      <td>en</td>\n",
       "      <td>Super-Hero partners Scott Lang and Hope van Dyne along with with Hope's pare...</td>\n",
       "      <td>4704.903</td>\n",
       "      <td>Marvel Studios-Kevin Feige Productions</td>\n",
       "      <td>2023-02-15</td>\n",
       "      <td>200000000.0</td>\n",
       "      <td>4.732379e+08</td>\n",
       "      <td>125.0</td>\n",
       "      <td>Released</td>\n",
       "      <td>Witness the beginning of a new dynasty.</td>\n",
       "      <td>6.448</td>\n",
       "      <td>1547.0</td>\n",
       "      <td>Paul Rudd-Evangeline Lilly-Jonathan Majors-Kathryn Newton-Michelle Pfeiffer-...</td>\n",
       "      <td>hero-ant-sequel-superhero-based on comic-family-superhero team-aftercreditss...</td>\n",
       "      <td>/ngl2FKBlU4fhbdsrtdom9LVLBXw.jpg</td>\n",
       "      <td>/3CxUndGhUcZdt1Zggjdb2HkLLQX.jpg</td>\n",
       "      <td>965839-734048-267805-1035806-823999-842942-772515-1058949-1077280-677179-758...</td>\n",
       "    </tr>\n",
       "    <tr>\n",
       "      <th>3</th>\n",
       "      <td>677179</td>\n",
       "      <td>Creed III</td>\n",
       "      <td>Drama-Action</td>\n",
       "      <td>en</td>\n",
       "      <td>After dominating the boxing world Adonis Creed has been thriving in both his...</td>\n",
       "      <td>3994.342</td>\n",
       "      <td>Metro-Goldwyn-Mayer-Proximity Media-Balboa Productions-Outlier Society Produ...</td>\n",
       "      <td>2023-03-01</td>\n",
       "      <td>75000000.0</td>\n",
       "      <td>2.690000e+08</td>\n",
       "      <td>116.0</td>\n",
       "      <td>Released</td>\n",
       "      <td>You can't run from your past.</td>\n",
       "      <td>7.262</td>\n",
       "      <td>1129.0</td>\n",
       "      <td>Michael B. Jordan-Tessa Thompson-Jonathan Majors-Wood Harris-Phylicia Rashād...</td>\n",
       "      <td>philadelphia pennsylvania-husband wife relationship-deaf-sports-sequel-orpha...</td>\n",
       "      <td>/cvsXj3I9Q2iyyIo95AecSd1tad7.jpg</td>\n",
       "      <td>/5i6SjyDbDWqyun8klUuCxrlFbyw.jpg</td>\n",
       "      <td>965839-267805-943822-842942-1035806-823999-1077280-1058949-772515-937278-640...</td>\n",
       "    </tr>\n",
       "    <tr>\n",
       "      <th>4</th>\n",
       "      <td>631842</td>\n",
       "      <td>Knock at the Cabin</td>\n",
       "      <td>Horror-Mystery-Thriller</td>\n",
       "      <td>en</td>\n",
       "      <td>While vacationing at a remote cabin a young girl and her two fathers are tak...</td>\n",
       "      <td>3422.537</td>\n",
       "      <td>Blinding Edge Pictures-Universal Pictures-FilmNation Entertainment-Wishmore-...</td>\n",
       "      <td>2023-02-01</td>\n",
       "      <td>20000000.0</td>\n",
       "      <td>5.200000e+07</td>\n",
       "      <td>100.0</td>\n",
       "      <td>Released</td>\n",
       "      <td>Save your family or save humanity. Make the choice.</td>\n",
       "      <td>6.457</td>\n",
       "      <td>888.0</td>\n",
       "      <td>Dave Bautista-Jonathan Groff-Ben Aldridge-Kristen Cui-Nikki Amuka-Bird-Ruper...</td>\n",
       "      <td>based on novel or book-sacrifice-cabin-faith-end of the world-apocalypse-hom...</td>\n",
       "      <td>/dm06L9pxDOL9jNSK4Cb6y139rrG.jpg</td>\n",
       "      <td>/zWDMQX0sPaW2u0N2pJaYA8bVVaJ.jpg</td>\n",
       "      <td>1058949-646389-772515-505642-143970-667216-1048522-785084-1058617-986054-640...</td>\n",
       "    </tr>\n",
       "  </tbody>\n",
       "</table>\n",
       "</div>"
      ],
      "text/plain": [
       "       id                              title   \n",
       "0   76600           Avatar: The Way of Water  \\\n",
       "1  502356        The Super Mario Bros. Movie   \n",
       "2  640146  Ant-Man and the Wasp: Quantumania   \n",
       "3  677179                          Creed III   \n",
       "4  631842                 Knock at the Cabin   \n",
       "\n",
       "                                      genres original_language   \n",
       "0           Science Fiction-Adventure-Action                en  \\\n",
       "1  Animation-Adventure-Family-Fantasy-Comedy                en   \n",
       "2           Action-Adventure-Science Fiction                en   \n",
       "3                               Drama-Action                en   \n",
       "4                    Horror-Mystery-Thriller                en   \n",
       "\n",
       "                                                                          overview   \n",
       "0  Set more than a decade after the events of the first film learn the story of...  \\\n",
       "1  While working underground to fix a water main Brooklyn plumbers—and brothers...   \n",
       "2  Super-Hero partners Scott Lang and Hope van Dyne along with with Hope's pare...   \n",
       "3  After dominating the boxing world Adonis Creed has been thriving in both his...   \n",
       "4  While vacationing at a remote cabin a young girl and her two fathers are tak...   \n",
       "\n",
       "   popularity   \n",
       "0    9366.788  \\\n",
       "1    5132.098   \n",
       "2    4704.903   \n",
       "3    3994.342   \n",
       "4    3422.537   \n",
       "\n",
       "                                                              production_companies   \n",
       "0                                    20th Century Studios-Lightstorm Entertainment  \\\n",
       "1                                         Universal Pictures-Illumination-Nintendo   \n",
       "2                                           Marvel Studios-Kevin Feige Productions   \n",
       "3  Metro-Goldwyn-Mayer-Proximity Media-Balboa Productions-Outlier Society Produ...   \n",
       "4  Blinding Edge Pictures-Universal Pictures-FilmNation Entertainment-Wishmore-...   \n",
       "\n",
       "  release_date       budget       revenue  runtime    status   \n",
       "0   2022-12-14  350000000.0  2.312336e+09    192.0  Released  \\\n",
       "1   2023-04-05  100000000.0  5.800000e+07     92.0  Released   \n",
       "2   2023-02-15  200000000.0  4.732379e+08    125.0  Released   \n",
       "3   2023-03-01   75000000.0  2.690000e+08    116.0  Released   \n",
       "4   2023-02-01   20000000.0  5.200000e+07    100.0  Released   \n",
       "\n",
       "                                               tagline  vote_average   \n",
       "0                                   Return to Pandora.         7.751  \\\n",
       "1                                                  NaN         7.556   \n",
       "2              Witness the beginning of a new dynasty.         6.448   \n",
       "3                        You can't run from your past.         7.262   \n",
       "4  Save your family or save humanity. Make the choice.         6.457   \n",
       "\n",
       "   vote_count   \n",
       "0      6748.0  \\\n",
       "1       332.0   \n",
       "2      1547.0   \n",
       "3      1129.0   \n",
       "4       888.0   \n",
       "\n",
       "                                                                           credits   \n",
       "0  Sam Worthington-Zoe Saldaña-Sigourney Weaver-Stephen Lang-Kate Winslet-Cliff...  \\\n",
       "1  Chris Pratt-Anya Taylor-Joy-Charlie Day-Jack Black-Keegan-Michael Key-Seth R...   \n",
       "2  Paul Rudd-Evangeline Lilly-Jonathan Majors-Kathryn Newton-Michelle Pfeiffer-...   \n",
       "3  Michael B. Jordan-Tessa Thompson-Jonathan Majors-Wood Harris-Phylicia Rashād...   \n",
       "4  Dave Bautista-Jonathan Groff-Ben Aldridge-Kristen Cui-Nikki Amuka-Bird-Ruper...   \n",
       "\n",
       "                                                                          keywords   \n",
       "0  loss of loved one-dying and death-alien life-form-resurrection-sequel-dysfun...  \\\n",
       "1  video game-plumber-magic mushroom-based on video game-aftercreditsstinger-du...   \n",
       "2  hero-ant-sequel-superhero-based on comic-family-superhero team-aftercreditss...   \n",
       "3  philadelphia pennsylvania-husband wife relationship-deaf-sports-sequel-orpha...   \n",
       "4  based on novel or book-sacrifice-cabin-faith-end of the world-apocalypse-hom...   \n",
       "\n",
       "                        poster_path                     backdrop_path   \n",
       "0  /t6HIqrRAclMCA60NsSmeqe9RmNV.jpg  /s16H6tpK2utvwDtzZ8Qy4qm5Emw.jpg  \\\n",
       "1  /qNBAXBIQlnOThrVvA6mA2B5ggV6.jpg  /iw0Na1UBHgA5BgifwmQ8vKhlWgA.jpg   \n",
       "2  /ngl2FKBlU4fhbdsrtdom9LVLBXw.jpg  /3CxUndGhUcZdt1Zggjdb2HkLLQX.jpg   \n",
       "3  /cvsXj3I9Q2iyyIo95AecSd1tad7.jpg  /5i6SjyDbDWqyun8klUuCxrlFbyw.jpg   \n",
       "4  /dm06L9pxDOL9jNSK4Cb6y139rrG.jpg  /zWDMQX0sPaW2u0N2pJaYA8bVVaJ.jpg   \n",
       "\n",
       "                                                                   recommendations  \n",
       "0  183392-111332-702432-505642-1064215-436270-874764-613200-315162-965839-10138...  \n",
       "1                                                                              NaN  \n",
       "2  965839-734048-267805-1035806-823999-842942-772515-1058949-1077280-677179-758...  \n",
       "3  965839-267805-943822-842942-1035806-823999-1077280-1058949-772515-937278-640...  \n",
       "4  1058949-646389-772515-505642-143970-667216-1048522-785084-1058617-986054-640...  "
      ]
     },
     "execution_count": 7,
     "metadata": {},
     "output_type": "execute_result"
    }
   ],
   "source": [
    "# Create the dataset\n",
    "df = pd.read_csv(\"/Users/KT71KC/Trainings_and_trials/generative_ai/movies.csv\")\n",
    "df.head()"
   ]
  },
  {
   "cell_type": "code",
   "execution_count": 8,
   "metadata": {},
   "outputs": [
    {
     "data": {
      "text/plain": [
       "(722924, 20)"
      ]
     },
     "execution_count": 8,
     "metadata": {},
     "output_type": "execute_result"
    }
   ],
   "source": [
    "df.shape"
   ]
  },
  {
   "cell_type": "code",
   "execution_count": 9,
   "metadata": {},
   "outputs": [
    {
     "data": {
      "text/plain": [
       "id                               int64\n",
       "title                           object\n",
       "genres                          object\n",
       "original_language               object\n",
       "overview                        object\n",
       "popularity                     float64\n",
       "production_companies            object\n",
       "release_date            datetime64[ns]\n",
       "budget                         float64\n",
       "revenue                        float64\n",
       "runtime                        float64\n",
       "status                          object\n",
       "tagline                         object\n",
       "vote_average                   float64\n",
       "vote_count                     float64\n",
       "credits                         object\n",
       "keywords                        object\n",
       "poster_path                     object\n",
       "backdrop_path                   object\n",
       "recommendations                 object\n",
       "dtype: object"
      ]
     },
     "execution_count": 9,
     "metadata": {},
     "output_type": "execute_result"
    }
   ],
   "source": [
    "df['release_date'] = pd.to_datetime(df['release_date'])\n",
    "df.dtypes"
   ]
  },
  {
   "cell_type": "code",
   "execution_count": 10,
   "metadata": {},
   "outputs": [
    {
     "data": {
      "text/plain": [
       "(12573, 20)"
      ]
     },
     "execution_count": 10,
     "metadata": {},
     "output_type": "execute_result"
    }
   ],
   "source": [
    "# I filtered the momvies after Jan 2022. Because, end date of ChatGPT is Sep 2021. Also, I only picked movies Released after that day.\n",
    "df_filtered = df[df['release_date']>='2022-01-01']\n",
    "df_filtered = df_filtered[df_filtered['status']=='Released']\n",
    "df_filtered.shape"
   ]
  },
  {
   "cell_type": "code",
   "execution_count": 11,
   "metadata": {},
   "outputs": [
    {
     "data": {
      "text/plain": [
       "Timestamp('2022-01-01 00:00:00')"
      ]
     },
     "execution_count": 11,
     "metadata": {},
     "output_type": "execute_result"
    }
   ],
   "source": [
    "df_filtered.release_date.min()"
   ]
  },
  {
   "cell_type": "code",
   "execution_count": 12,
   "metadata": {},
   "outputs": [
    {
     "data": {
      "text/html": [
       "<div>\n",
       "<style scoped>\n",
       "    .dataframe tbody tr th:only-of-type {\n",
       "        vertical-align: middle;\n",
       "    }\n",
       "\n",
       "    .dataframe tbody tr th {\n",
       "        vertical-align: top;\n",
       "    }\n",
       "\n",
       "    .dataframe thead th {\n",
       "        text-align: right;\n",
       "    }\n",
       "</style>\n",
       "<table border=\"1\" class=\"dataframe\">\n",
       "  <thead>\n",
       "    <tr style=\"text-align: right;\">\n",
       "      <th></th>\n",
       "      <th>id</th>\n",
       "      <th>title</th>\n",
       "      <th>genres</th>\n",
       "      <th>original_language</th>\n",
       "      <th>overview</th>\n",
       "      <th>popularity</th>\n",
       "      <th>production_companies</th>\n",
       "      <th>release_date</th>\n",
       "      <th>budget</th>\n",
       "      <th>revenue</th>\n",
       "      <th>runtime</th>\n",
       "      <th>status</th>\n",
       "      <th>tagline</th>\n",
       "      <th>vote_average</th>\n",
       "      <th>vote_count</th>\n",
       "      <th>credits</th>\n",
       "      <th>keywords</th>\n",
       "      <th>poster_path</th>\n",
       "      <th>backdrop_path</th>\n",
       "      <th>recommendations</th>\n",
       "    </tr>\n",
       "  </thead>\n",
       "  <tbody>\n",
       "    <tr>\n",
       "      <th>0</th>\n",
       "      <td>76600</td>\n",
       "      <td>Avatar: The Way of Water</td>\n",
       "      <td>Science Fiction, Adventure, Action</td>\n",
       "      <td>en</td>\n",
       "      <td>Set more than a decade after the events of the first film learn the story of...</td>\n",
       "      <td>9366.788</td>\n",
       "      <td>20th Century Studios-Lightstorm Entertainment</td>\n",
       "      <td>2022-12-14</td>\n",
       "      <td>350000000.0</td>\n",
       "      <td>2.312336e+09</td>\n",
       "      <td>192.0</td>\n",
       "      <td>Released</td>\n",
       "      <td>Return to Pandora.</td>\n",
       "      <td>7.751</td>\n",
       "      <td>6748.0</td>\n",
       "      <td>Sam Worthington, Zoe Saldaña, Sigourney Weaver, Stephen Lang, Kate Winslet, ...</td>\n",
       "      <td>loss of loved one-dying and death-alien life-form-resurrection-sequel-dysfun...</td>\n",
       "      <td>/t6HIqrRAclMCA60NsSmeqe9RmNV.jpg</td>\n",
       "      <td>/s16H6tpK2utvwDtzZ8Qy4qm5Emw.jpg</td>\n",
       "      <td>183392-111332-702432-505642-1064215-436270-874764-613200-315162-965839-10138...</td>\n",
       "    </tr>\n",
       "    <tr>\n",
       "      <th>1</th>\n",
       "      <td>502356</td>\n",
       "      <td>The Super Mario Bros. Movie</td>\n",
       "      <td>Animation, Adventure, Family, Fantasy, Comedy</td>\n",
       "      <td>en</td>\n",
       "      <td>While working underground to fix a water main Brooklyn plumbers—and brothers...</td>\n",
       "      <td>5132.098</td>\n",
       "      <td>Universal Pictures-Illumination-Nintendo</td>\n",
       "      <td>2023-04-05</td>\n",
       "      <td>100000000.0</td>\n",
       "      <td>5.800000e+07</td>\n",
       "      <td>92.0</td>\n",
       "      <td>Released</td>\n",
       "      <td>NaN</td>\n",
       "      <td>7.556</td>\n",
       "      <td>332.0</td>\n",
       "      <td>Chris Pratt, Anya Taylor, Joy, Charlie Day, Jack Black, Keegan, Michael Key,...</td>\n",
       "      <td>video game-plumber-magic mushroom-based on video game-aftercreditsstinger-du...</td>\n",
       "      <td>/qNBAXBIQlnOThrVvA6mA2B5ggV6.jpg</td>\n",
       "      <td>/iw0Na1UBHgA5BgifwmQ8vKhlWgA.jpg</td>\n",
       "      <td>NaN</td>\n",
       "    </tr>\n",
       "    <tr>\n",
       "      <th>2</th>\n",
       "      <td>640146</td>\n",
       "      <td>Ant-Man and the Wasp: Quantumania</td>\n",
       "      <td>Action, Adventure, Science Fiction</td>\n",
       "      <td>en</td>\n",
       "      <td>Super-Hero partners Scott Lang and Hope van Dyne along with with Hope's pare...</td>\n",
       "      <td>4704.903</td>\n",
       "      <td>Marvel Studios-Kevin Feige Productions</td>\n",
       "      <td>2023-02-15</td>\n",
       "      <td>200000000.0</td>\n",
       "      <td>4.732379e+08</td>\n",
       "      <td>125.0</td>\n",
       "      <td>Released</td>\n",
       "      <td>Witness the beginning of a new dynasty.</td>\n",
       "      <td>6.448</td>\n",
       "      <td>1547.0</td>\n",
       "      <td>Paul Rudd, Evangeline Lilly, Jonathan Majors, Kathryn Newton, Michelle Pfeif...</td>\n",
       "      <td>hero-ant-sequel-superhero-based on comic-family-superhero team-aftercreditss...</td>\n",
       "      <td>/ngl2FKBlU4fhbdsrtdom9LVLBXw.jpg</td>\n",
       "      <td>/3CxUndGhUcZdt1Zggjdb2HkLLQX.jpg</td>\n",
       "      <td>965839-734048-267805-1035806-823999-842942-772515-1058949-1077280-677179-758...</td>\n",
       "    </tr>\n",
       "    <tr>\n",
       "      <th>3</th>\n",
       "      <td>677179</td>\n",
       "      <td>Creed III</td>\n",
       "      <td>Drama, Action</td>\n",
       "      <td>en</td>\n",
       "      <td>After dominating the boxing world Adonis Creed has been thriving in both his...</td>\n",
       "      <td>3994.342</td>\n",
       "      <td>Metro-Goldwyn-Mayer-Proximity Media-Balboa Productions-Outlier Society Produ...</td>\n",
       "      <td>2023-03-01</td>\n",
       "      <td>75000000.0</td>\n",
       "      <td>2.690000e+08</td>\n",
       "      <td>116.0</td>\n",
       "      <td>Released</td>\n",
       "      <td>You can't run from your past.</td>\n",
       "      <td>7.262</td>\n",
       "      <td>1129.0</td>\n",
       "      <td>Michael B. Jordan, Tessa Thompson, Jonathan Majors, Wood Harris, Phylicia Ra...</td>\n",
       "      <td>philadelphia pennsylvania-husband wife relationship-deaf-sports-sequel-orpha...</td>\n",
       "      <td>/cvsXj3I9Q2iyyIo95AecSd1tad7.jpg</td>\n",
       "      <td>/5i6SjyDbDWqyun8klUuCxrlFbyw.jpg</td>\n",
       "      <td>965839-267805-943822-842942-1035806-823999-1077280-1058949-772515-937278-640...</td>\n",
       "    </tr>\n",
       "    <tr>\n",
       "      <th>4</th>\n",
       "      <td>631842</td>\n",
       "      <td>Knock at the Cabin</td>\n",
       "      <td>Horror, Mystery, Thriller</td>\n",
       "      <td>en</td>\n",
       "      <td>While vacationing at a remote cabin a young girl and her two fathers are tak...</td>\n",
       "      <td>3422.537</td>\n",
       "      <td>Blinding Edge Pictures-Universal Pictures-FilmNation Entertainment-Wishmore-...</td>\n",
       "      <td>2023-02-01</td>\n",
       "      <td>20000000.0</td>\n",
       "      <td>5.200000e+07</td>\n",
       "      <td>100.0</td>\n",
       "      <td>Released</td>\n",
       "      <td>Save your family or save humanity. Make the choice.</td>\n",
       "      <td>6.457</td>\n",
       "      <td>888.0</td>\n",
       "      <td>Dave Bautista, Jonathan Groff, Ben Aldridge, Kristen Cui, Nikki Amuka, Bird,...</td>\n",
       "      <td>based on novel or book-sacrifice-cabin-faith-end of the world-apocalypse-hom...</td>\n",
       "      <td>/dm06L9pxDOL9jNSK4Cb6y139rrG.jpg</td>\n",
       "      <td>/zWDMQX0sPaW2u0N2pJaYA8bVVaJ.jpg</td>\n",
       "      <td>1058949-646389-772515-505642-143970-667216-1048522-785084-1058617-986054-640...</td>\n",
       "    </tr>\n",
       "  </tbody>\n",
       "</table>\n",
       "</div>"
      ],
      "text/plain": [
       "       id                              title   \n",
       "0   76600           Avatar: The Way of Water  \\\n",
       "1  502356        The Super Mario Bros. Movie   \n",
       "2  640146  Ant-Man and the Wasp: Quantumania   \n",
       "3  677179                          Creed III   \n",
       "4  631842                 Knock at the Cabin   \n",
       "\n",
       "                                          genres original_language   \n",
       "0             Science Fiction, Adventure, Action                en  \\\n",
       "1  Animation, Adventure, Family, Fantasy, Comedy                en   \n",
       "2             Action, Adventure, Science Fiction                en   \n",
       "3                                  Drama, Action                en   \n",
       "4                      Horror, Mystery, Thriller                en   \n",
       "\n",
       "                                                                          overview   \n",
       "0  Set more than a decade after the events of the first film learn the story of...  \\\n",
       "1  While working underground to fix a water main Brooklyn plumbers—and brothers...   \n",
       "2  Super-Hero partners Scott Lang and Hope van Dyne along with with Hope's pare...   \n",
       "3  After dominating the boxing world Adonis Creed has been thriving in both his...   \n",
       "4  While vacationing at a remote cabin a young girl and her two fathers are tak...   \n",
       "\n",
       "   popularity   \n",
       "0    9366.788  \\\n",
       "1    5132.098   \n",
       "2    4704.903   \n",
       "3    3994.342   \n",
       "4    3422.537   \n",
       "\n",
       "                                                              production_companies   \n",
       "0                                    20th Century Studios-Lightstorm Entertainment  \\\n",
       "1                                         Universal Pictures-Illumination-Nintendo   \n",
       "2                                           Marvel Studios-Kevin Feige Productions   \n",
       "3  Metro-Goldwyn-Mayer-Proximity Media-Balboa Productions-Outlier Society Produ...   \n",
       "4  Blinding Edge Pictures-Universal Pictures-FilmNation Entertainment-Wishmore-...   \n",
       "\n",
       "  release_date       budget       revenue  runtime    status   \n",
       "0   2022-12-14  350000000.0  2.312336e+09    192.0  Released  \\\n",
       "1   2023-04-05  100000000.0  5.800000e+07     92.0  Released   \n",
       "2   2023-02-15  200000000.0  4.732379e+08    125.0  Released   \n",
       "3   2023-03-01   75000000.0  2.690000e+08    116.0  Released   \n",
       "4   2023-02-01   20000000.0  5.200000e+07    100.0  Released   \n",
       "\n",
       "                                               tagline  vote_average   \n",
       "0                                   Return to Pandora.         7.751  \\\n",
       "1                                                  NaN         7.556   \n",
       "2              Witness the beginning of a new dynasty.         6.448   \n",
       "3                        You can't run from your past.         7.262   \n",
       "4  Save your family or save humanity. Make the choice.         6.457   \n",
       "\n",
       "   vote_count   \n",
       "0      6748.0  \\\n",
       "1       332.0   \n",
       "2      1547.0   \n",
       "3      1129.0   \n",
       "4       888.0   \n",
       "\n",
       "                                                                           credits   \n",
       "0  Sam Worthington, Zoe Saldaña, Sigourney Weaver, Stephen Lang, Kate Winslet, ...  \\\n",
       "1  Chris Pratt, Anya Taylor, Joy, Charlie Day, Jack Black, Keegan, Michael Key,...   \n",
       "2  Paul Rudd, Evangeline Lilly, Jonathan Majors, Kathryn Newton, Michelle Pfeif...   \n",
       "3  Michael B. Jordan, Tessa Thompson, Jonathan Majors, Wood Harris, Phylicia Ra...   \n",
       "4  Dave Bautista, Jonathan Groff, Ben Aldridge, Kristen Cui, Nikki Amuka, Bird,...   \n",
       "\n",
       "                                                                          keywords   \n",
       "0  loss of loved one-dying and death-alien life-form-resurrection-sequel-dysfun...  \\\n",
       "1  video game-plumber-magic mushroom-based on video game-aftercreditsstinger-du...   \n",
       "2  hero-ant-sequel-superhero-based on comic-family-superhero team-aftercreditss...   \n",
       "3  philadelphia pennsylvania-husband wife relationship-deaf-sports-sequel-orpha...   \n",
       "4  based on novel or book-sacrifice-cabin-faith-end of the world-apocalypse-hom...   \n",
       "\n",
       "                        poster_path                     backdrop_path   \n",
       "0  /t6HIqrRAclMCA60NsSmeqe9RmNV.jpg  /s16H6tpK2utvwDtzZ8Qy4qm5Emw.jpg  \\\n",
       "1  /qNBAXBIQlnOThrVvA6mA2B5ggV6.jpg  /iw0Na1UBHgA5BgifwmQ8vKhlWgA.jpg   \n",
       "2  /ngl2FKBlU4fhbdsrtdom9LVLBXw.jpg  /3CxUndGhUcZdt1Zggjdb2HkLLQX.jpg   \n",
       "3  /cvsXj3I9Q2iyyIo95AecSd1tad7.jpg  /5i6SjyDbDWqyun8klUuCxrlFbyw.jpg   \n",
       "4  /dm06L9pxDOL9jNSK4Cb6y139rrG.jpg  /zWDMQX0sPaW2u0N2pJaYA8bVVaJ.jpg   \n",
       "\n",
       "                                                                   recommendations  \n",
       "0  183392-111332-702432-505642-1064215-436270-874764-613200-315162-965839-10138...  \n",
       "1                                                                              NaN  \n",
       "2  965839-734048-267805-1035806-823999-842942-772515-1058949-1077280-677179-758...  \n",
       "3  965839-267805-943822-842942-1035806-823999-1077280-1058949-772515-937278-640...  \n",
       "4  1058949-646389-772515-505642-143970-667216-1048522-785084-1058617-986054-640...  "
      ]
     },
     "execution_count": 12,
     "metadata": {},
     "output_type": "execute_result"
    }
   ],
   "source": [
    "# Some preprocessing\n",
    "df_filtered['credits'] = df_filtered['credits'].str.replace(\"-\",\", \")\n",
    "df_filtered['genres'] = df_filtered['genres'].str.replace(\"-\",\", \")\n",
    "df_filtered.head()"
   ]
  },
  {
   "cell_type": "code",
   "execution_count": 13,
   "metadata": {},
   "outputs": [
    {
     "data": {
      "text/plain": [
       "\"Super-Hero partners Scott Lang and Hope van Dyne along with with Hope's parents Janet van Dyne and Hank Pym and Scott's daughter Cassie Lang find themselves exploring the Quantum Realm interacting with strange new creatures and embarking on an adventure that will push them beyond the limits of what they thought possible.\""
      ]
     },
     "execution_count": 13,
     "metadata": {},
     "output_type": "execute_result"
    }
   ],
   "source": [
    "df_filtered.loc[2,'overview']"
   ]
  },
  {
   "cell_type": "code",
   "execution_count": 14,
   "metadata": {},
   "outputs": [],
   "source": [
    "# Create a context for the prompt from the dataset\n",
    "df_filtered['context'] = df_filtered.apply(lambda row: f\"The title of the movie is {row['title']}. The genre of this movie is {row['genres']}. This movie is released on {row['release_date']}. The budget of the movie is ${row['budget']/1000000} million and total revenue of the movie is ${row['revenue']/1000000} million. The plot of the movie is {row['overview']}. Average vote of the movie is {row['vote_average']} out of 10 in {row['vote_count']} votes.\", axis =1) "
   ]
  },
  {
   "cell_type": "code",
   "execution_count": 15,
   "metadata": {},
   "outputs": [
    {
     "data": {
      "text/html": [
       "<div>\n",
       "<style scoped>\n",
       "    .dataframe tbody tr th:only-of-type {\n",
       "        vertical-align: middle;\n",
       "    }\n",
       "\n",
       "    .dataframe tbody tr th {\n",
       "        vertical-align: top;\n",
       "    }\n",
       "\n",
       "    .dataframe thead th {\n",
       "        text-align: right;\n",
       "    }\n",
       "</style>\n",
       "<table border=\"1\" class=\"dataframe\">\n",
       "  <thead>\n",
       "    <tr style=\"text-align: right;\">\n",
       "      <th></th>\n",
       "      <th>id</th>\n",
       "      <th>title</th>\n",
       "      <th>genres</th>\n",
       "      <th>original_language</th>\n",
       "      <th>overview</th>\n",
       "      <th>popularity</th>\n",
       "      <th>production_companies</th>\n",
       "      <th>release_date</th>\n",
       "      <th>budget</th>\n",
       "      <th>revenue</th>\n",
       "      <th>...</th>\n",
       "      <th>status</th>\n",
       "      <th>tagline</th>\n",
       "      <th>vote_average</th>\n",
       "      <th>vote_count</th>\n",
       "      <th>credits</th>\n",
       "      <th>keywords</th>\n",
       "      <th>poster_path</th>\n",
       "      <th>backdrop_path</th>\n",
       "      <th>recommendations</th>\n",
       "      <th>context</th>\n",
       "    </tr>\n",
       "  </thead>\n",
       "  <tbody>\n",
       "    <tr>\n",
       "      <th>0</th>\n",
       "      <td>76600</td>\n",
       "      <td>Avatar: The Way of Water</td>\n",
       "      <td>Science Fiction, Adventure, Action</td>\n",
       "      <td>en</td>\n",
       "      <td>Set more than a decade after the events of the first film learn the story of...</td>\n",
       "      <td>9366.788</td>\n",
       "      <td>20th Century Studios-Lightstorm Entertainment</td>\n",
       "      <td>2022-12-14</td>\n",
       "      <td>350000000.0</td>\n",
       "      <td>2.312336e+09</td>\n",
       "      <td>...</td>\n",
       "      <td>Released</td>\n",
       "      <td>Return to Pandora.</td>\n",
       "      <td>7.751</td>\n",
       "      <td>6748.0</td>\n",
       "      <td>Sam Worthington, Zoe Saldaña, Sigourney Weaver, Stephen Lang, Kate Winslet, ...</td>\n",
       "      <td>loss of loved one-dying and death-alien life-form-resurrection-sequel-dysfun...</td>\n",
       "      <td>/t6HIqrRAclMCA60NsSmeqe9RmNV.jpg</td>\n",
       "      <td>/s16H6tpK2utvwDtzZ8Qy4qm5Emw.jpg</td>\n",
       "      <td>183392-111332-702432-505642-1064215-436270-874764-613200-315162-965839-10138...</td>\n",
       "      <td>The title of the movie is Avatar: The Way of Water. The genre of this movie ...</td>\n",
       "    </tr>\n",
       "    <tr>\n",
       "      <th>1</th>\n",
       "      <td>502356</td>\n",
       "      <td>The Super Mario Bros. Movie</td>\n",
       "      <td>Animation, Adventure, Family, Fantasy, Comedy</td>\n",
       "      <td>en</td>\n",
       "      <td>While working underground to fix a water main Brooklyn plumbers—and brothers...</td>\n",
       "      <td>5132.098</td>\n",
       "      <td>Universal Pictures-Illumination-Nintendo</td>\n",
       "      <td>2023-04-05</td>\n",
       "      <td>100000000.0</td>\n",
       "      <td>5.800000e+07</td>\n",
       "      <td>...</td>\n",
       "      <td>Released</td>\n",
       "      <td>NaN</td>\n",
       "      <td>7.556</td>\n",
       "      <td>332.0</td>\n",
       "      <td>Chris Pratt, Anya Taylor, Joy, Charlie Day, Jack Black, Keegan, Michael Key,...</td>\n",
       "      <td>video game-plumber-magic mushroom-based on video game-aftercreditsstinger-du...</td>\n",
       "      <td>/qNBAXBIQlnOThrVvA6mA2B5ggV6.jpg</td>\n",
       "      <td>/iw0Na1UBHgA5BgifwmQ8vKhlWgA.jpg</td>\n",
       "      <td>NaN</td>\n",
       "      <td>The title of the movie is The Super Mario Bros. Movie. The genre of this mov...</td>\n",
       "    </tr>\n",
       "    <tr>\n",
       "      <th>2</th>\n",
       "      <td>640146</td>\n",
       "      <td>Ant-Man and the Wasp: Quantumania</td>\n",
       "      <td>Action, Adventure, Science Fiction</td>\n",
       "      <td>en</td>\n",
       "      <td>Super-Hero partners Scott Lang and Hope van Dyne along with with Hope's pare...</td>\n",
       "      <td>4704.903</td>\n",
       "      <td>Marvel Studios-Kevin Feige Productions</td>\n",
       "      <td>2023-02-15</td>\n",
       "      <td>200000000.0</td>\n",
       "      <td>4.732379e+08</td>\n",
       "      <td>...</td>\n",
       "      <td>Released</td>\n",
       "      <td>Witness the beginning of a new dynasty.</td>\n",
       "      <td>6.448</td>\n",
       "      <td>1547.0</td>\n",
       "      <td>Paul Rudd, Evangeline Lilly, Jonathan Majors, Kathryn Newton, Michelle Pfeif...</td>\n",
       "      <td>hero-ant-sequel-superhero-based on comic-family-superhero team-aftercreditss...</td>\n",
       "      <td>/ngl2FKBlU4fhbdsrtdom9LVLBXw.jpg</td>\n",
       "      <td>/3CxUndGhUcZdt1Zggjdb2HkLLQX.jpg</td>\n",
       "      <td>965839-734048-267805-1035806-823999-842942-772515-1058949-1077280-677179-758...</td>\n",
       "      <td>The title of the movie is Ant-Man and the Wasp: Quantumania. The genre of th...</td>\n",
       "    </tr>\n",
       "    <tr>\n",
       "      <th>3</th>\n",
       "      <td>677179</td>\n",
       "      <td>Creed III</td>\n",
       "      <td>Drama, Action</td>\n",
       "      <td>en</td>\n",
       "      <td>After dominating the boxing world Adonis Creed has been thriving in both his...</td>\n",
       "      <td>3994.342</td>\n",
       "      <td>Metro-Goldwyn-Mayer-Proximity Media-Balboa Productions-Outlier Society Produ...</td>\n",
       "      <td>2023-03-01</td>\n",
       "      <td>75000000.0</td>\n",
       "      <td>2.690000e+08</td>\n",
       "      <td>...</td>\n",
       "      <td>Released</td>\n",
       "      <td>You can't run from your past.</td>\n",
       "      <td>7.262</td>\n",
       "      <td>1129.0</td>\n",
       "      <td>Michael B. Jordan, Tessa Thompson, Jonathan Majors, Wood Harris, Phylicia Ra...</td>\n",
       "      <td>philadelphia pennsylvania-husband wife relationship-deaf-sports-sequel-orpha...</td>\n",
       "      <td>/cvsXj3I9Q2iyyIo95AecSd1tad7.jpg</td>\n",
       "      <td>/5i6SjyDbDWqyun8klUuCxrlFbyw.jpg</td>\n",
       "      <td>965839-267805-943822-842942-1035806-823999-1077280-1058949-772515-937278-640...</td>\n",
       "      <td>The title of the movie is Creed III. The genre of this movie is Drama, Actio...</td>\n",
       "    </tr>\n",
       "    <tr>\n",
       "      <th>4</th>\n",
       "      <td>631842</td>\n",
       "      <td>Knock at the Cabin</td>\n",
       "      <td>Horror, Mystery, Thriller</td>\n",
       "      <td>en</td>\n",
       "      <td>While vacationing at a remote cabin a young girl and her two fathers are tak...</td>\n",
       "      <td>3422.537</td>\n",
       "      <td>Blinding Edge Pictures-Universal Pictures-FilmNation Entertainment-Wishmore-...</td>\n",
       "      <td>2023-02-01</td>\n",
       "      <td>20000000.0</td>\n",
       "      <td>5.200000e+07</td>\n",
       "      <td>...</td>\n",
       "      <td>Released</td>\n",
       "      <td>Save your family or save humanity. Make the choice.</td>\n",
       "      <td>6.457</td>\n",
       "      <td>888.0</td>\n",
       "      <td>Dave Bautista, Jonathan Groff, Ben Aldridge, Kristen Cui, Nikki Amuka, Bird,...</td>\n",
       "      <td>based on novel or book-sacrifice-cabin-faith-end of the world-apocalypse-hom...</td>\n",
       "      <td>/dm06L9pxDOL9jNSK4Cb6y139rrG.jpg</td>\n",
       "      <td>/zWDMQX0sPaW2u0N2pJaYA8bVVaJ.jpg</td>\n",
       "      <td>1058949-646389-772515-505642-143970-667216-1048522-785084-1058617-986054-640...</td>\n",
       "      <td>The title of the movie is Knock at the Cabin. The genre of this movie is Hor...</td>\n",
       "    </tr>\n",
       "  </tbody>\n",
       "</table>\n",
       "<p>5 rows × 21 columns</p>\n",
       "</div>"
      ],
      "text/plain": [
       "       id                              title   \n",
       "0   76600           Avatar: The Way of Water  \\\n",
       "1  502356        The Super Mario Bros. Movie   \n",
       "2  640146  Ant-Man and the Wasp: Quantumania   \n",
       "3  677179                          Creed III   \n",
       "4  631842                 Knock at the Cabin   \n",
       "\n",
       "                                          genres original_language   \n",
       "0             Science Fiction, Adventure, Action                en  \\\n",
       "1  Animation, Adventure, Family, Fantasy, Comedy                en   \n",
       "2             Action, Adventure, Science Fiction                en   \n",
       "3                                  Drama, Action                en   \n",
       "4                      Horror, Mystery, Thriller                en   \n",
       "\n",
       "                                                                          overview   \n",
       "0  Set more than a decade after the events of the first film learn the story of...  \\\n",
       "1  While working underground to fix a water main Brooklyn plumbers—and brothers...   \n",
       "2  Super-Hero partners Scott Lang and Hope van Dyne along with with Hope's pare...   \n",
       "3  After dominating the boxing world Adonis Creed has been thriving in both his...   \n",
       "4  While vacationing at a remote cabin a young girl and her two fathers are tak...   \n",
       "\n",
       "   popularity   \n",
       "0    9366.788  \\\n",
       "1    5132.098   \n",
       "2    4704.903   \n",
       "3    3994.342   \n",
       "4    3422.537   \n",
       "\n",
       "                                                              production_companies   \n",
       "0                                    20th Century Studios-Lightstorm Entertainment  \\\n",
       "1                                         Universal Pictures-Illumination-Nintendo   \n",
       "2                                           Marvel Studios-Kevin Feige Productions   \n",
       "3  Metro-Goldwyn-Mayer-Proximity Media-Balboa Productions-Outlier Society Produ...   \n",
       "4  Blinding Edge Pictures-Universal Pictures-FilmNation Entertainment-Wishmore-...   \n",
       "\n",
       "  release_date       budget       revenue  ...    status   \n",
       "0   2022-12-14  350000000.0  2.312336e+09  ...  Released  \\\n",
       "1   2023-04-05  100000000.0  5.800000e+07  ...  Released   \n",
       "2   2023-02-15  200000000.0  4.732379e+08  ...  Released   \n",
       "3   2023-03-01   75000000.0  2.690000e+08  ...  Released   \n",
       "4   2023-02-01   20000000.0  5.200000e+07  ...  Released   \n",
       "\n",
       "                                               tagline vote_average   \n",
       "0                                   Return to Pandora.        7.751  \\\n",
       "1                                                  NaN        7.556   \n",
       "2              Witness the beginning of a new dynasty.        6.448   \n",
       "3                        You can't run from your past.        7.262   \n",
       "4  Save your family or save humanity. Make the choice.        6.457   \n",
       "\n",
       "   vote_count   \n",
       "0      6748.0  \\\n",
       "1       332.0   \n",
       "2      1547.0   \n",
       "3      1129.0   \n",
       "4       888.0   \n",
       "\n",
       "                                                                           credits   \n",
       "0  Sam Worthington, Zoe Saldaña, Sigourney Weaver, Stephen Lang, Kate Winslet, ...  \\\n",
       "1  Chris Pratt, Anya Taylor, Joy, Charlie Day, Jack Black, Keegan, Michael Key,...   \n",
       "2  Paul Rudd, Evangeline Lilly, Jonathan Majors, Kathryn Newton, Michelle Pfeif...   \n",
       "3  Michael B. Jordan, Tessa Thompson, Jonathan Majors, Wood Harris, Phylicia Ra...   \n",
       "4  Dave Bautista, Jonathan Groff, Ben Aldridge, Kristen Cui, Nikki Amuka, Bird,...   \n",
       "\n",
       "                                                                          keywords   \n",
       "0  loss of loved one-dying and death-alien life-form-resurrection-sequel-dysfun...  \\\n",
       "1  video game-plumber-magic mushroom-based on video game-aftercreditsstinger-du...   \n",
       "2  hero-ant-sequel-superhero-based on comic-family-superhero team-aftercreditss...   \n",
       "3  philadelphia pennsylvania-husband wife relationship-deaf-sports-sequel-orpha...   \n",
       "4  based on novel or book-sacrifice-cabin-faith-end of the world-apocalypse-hom...   \n",
       "\n",
       "                        poster_path                     backdrop_path   \n",
       "0  /t6HIqrRAclMCA60NsSmeqe9RmNV.jpg  /s16H6tpK2utvwDtzZ8Qy4qm5Emw.jpg  \\\n",
       "1  /qNBAXBIQlnOThrVvA6mA2B5ggV6.jpg  /iw0Na1UBHgA5BgifwmQ8vKhlWgA.jpg   \n",
       "2  /ngl2FKBlU4fhbdsrtdom9LVLBXw.jpg  /3CxUndGhUcZdt1Zggjdb2HkLLQX.jpg   \n",
       "3  /cvsXj3I9Q2iyyIo95AecSd1tad7.jpg  /5i6SjyDbDWqyun8klUuCxrlFbyw.jpg   \n",
       "4  /dm06L9pxDOL9jNSK4Cb6y139rrG.jpg  /zWDMQX0sPaW2u0N2pJaYA8bVVaJ.jpg   \n",
       "\n",
       "                                                                   recommendations   \n",
       "0  183392-111332-702432-505642-1064215-436270-874764-613200-315162-965839-10138...  \\\n",
       "1                                                                              NaN   \n",
       "2  965839-734048-267805-1035806-823999-842942-772515-1058949-1077280-677179-758...   \n",
       "3  965839-267805-943822-842942-1035806-823999-1077280-1058949-772515-937278-640...   \n",
       "4  1058949-646389-772515-505642-143970-667216-1048522-785084-1058617-986054-640...   \n",
       "\n",
       "                                                                           context  \n",
       "0  The title of the movie is Avatar: The Way of Water. The genre of this movie ...  \n",
       "1  The title of the movie is The Super Mario Bros. Movie. The genre of this mov...  \n",
       "2  The title of the movie is Ant-Man and the Wasp: Quantumania. The genre of th...  \n",
       "3  The title of the movie is Creed III. The genre of this movie is Drama, Actio...  \n",
       "4  The title of the movie is Knock at the Cabin. The genre of this movie is Hor...  \n",
       "\n",
       "[5 rows x 21 columns]"
      ]
     },
     "execution_count": 15,
     "metadata": {},
     "output_type": "execute_result"
    }
   ],
   "source": [
    "df_filtered.head()"
   ]
  },
  {
   "cell_type": "code",
   "execution_count": 16,
   "metadata": {},
   "outputs": [
    {
     "data": {
      "text/plain": [
       "'The title of the movie is Avatar: The Way of Water. The genre of this movie is Science Fiction, Adventure, Action. This movie is released on 2022-12-14 00:00:00. The budget of the movie is $350.0 million and total revenue of the movie is $2312.335665 million. The plot of the movie is Set more than a decade after the events of the first film learn the story of the Sully family (Jake Neytiri and their kids) the trouble that follows them the lengths they go to keep each other safe the battles they fight to stay alive and the tragedies they endure.. Average vote of the movie is 7.751 out of 10 in 6748.0 votes.'"
      ]
     },
     "execution_count": 16,
     "metadata": {},
     "output_type": "execute_result"
    }
   ],
   "source": [
    "df_filtered.loc[0, 'context']"
   ]
  },
  {
   "cell_type": "markdown",
   "metadata": {},
   "source": [
    "# Create the DocumentStore\n",
    "### For ElasticSearchDocumentStore, these commands should be run in the command line.\n",
    "docker pull docker.elastic.co/elasticsearch/elasticsearch:7.9.2\n",
    "\n",
    "docker run -d -p 9200:9200 -e \"discovery.type=single-node\" elasticsearch:7.9.2\n",
    "\n",
    "Note: Docker shoulf be running\n"
   ]
  },
  {
   "cell_type": "code",
   "execution_count": 17,
   "metadata": {},
   "outputs": [],
   "source": [
    "from haystack.document_stores import ElasticsearchDocumentStore"
   ]
  },
  {
   "cell_type": "code",
   "execution_count": 18,
   "metadata": {},
   "outputs": [],
   "source": [
    "document_store = ElasticsearchDocumentStore(embedding_dim=1536, similarity='cosine', return_embedding=True)"
   ]
  },
  {
   "cell_type": "code",
   "execution_count": 19,
   "metadata": {},
   "outputs": [
    {
     "data": {
      "text/plain": [
       "<haystack.document_stores.elasticsearch.ElasticsearchDocumentStore at 0x16cf9c710>"
      ]
     },
     "execution_count": 19,
     "metadata": {},
     "output_type": "execute_result"
    }
   ],
   "source": [
    "document_store"
   ]
  },
  {
   "cell_type": "code",
   "execution_count": 22,
   "metadata": {},
   "outputs": [],
   "source": [
    "# Write documents into DocumentStore\n",
    "from haystack import Document"
   ]
  },
  {
   "cell_type": "code",
   "execution_count": 23,
   "metadata": {},
   "outputs": [],
   "source": [
    "# Put the information inside of documents list to embed document store. \n",
    "# We can think of this as our documents\n",
    "titles = list(df_filtered['title'].values)\n",
    "contexts = list(df_filtered['context'].values)\n",
    "\n",
    "documents = []\n",
    "\n",
    "for title, context in zip(titles, contexts):\n",
    "  documents.append(Document(content=context, meta={\"name\":title or \"\"}))"
   ]
  },
  {
   "cell_type": "code",
   "execution_count": 24,
   "metadata": {},
   "outputs": [],
   "source": [
    "# Delete existing documents inside of document store if there are any\n",
    "document_store.delete_documents()\n",
    "\n",
    "# Write documents to document store\n",
    "document_store.write_documents(documents)"
   ]
  },
  {
   "cell_type": "code",
   "execution_count": 25,
   "metadata": {},
   "outputs": [],
   "source": [
    "import tiktoken\n",
    "\n",
    "def num_tokens_from_string(string, encoding_name):\n",
    "    \"\"\"Returns the number of tokens in a text string.\"\"\"\n",
    "    encoding = tiktoken.get_encoding(encoding_name)\n",
    "    num_tokens = len(encoding.encode(string))\n",
    "    return num_tokens"
   ]
  },
  {
   "cell_type": "code",
   "execution_count": 26,
   "metadata": {},
   "outputs": [],
   "source": [
    "# Calculate number of tokens \n",
    "df_filtered['token_count'] = df_filtered['context'].apply(lambda text: num_tokens_from_string(text,'cl100k_base'))\n",
    "df_filtered['word_count'] = df_filtered['context'].apply(lambda text: len(text.split()))"
   ]
  },
  {
   "cell_type": "code",
   "execution_count": 27,
   "metadata": {},
   "outputs": [
    {
     "name": "stdout",
     "output_type": "stream",
     "text": [
      "1764302\n",
      "1263523\n"
     ]
    }
   ],
   "source": [
    "print(df_filtered.token_count.sum())\n",
    "print(df_filtered.word_count.sum())"
   ]
  },
  {
   "cell_type": "code",
   "execution_count": 28,
   "metadata": {},
   "outputs": [
    {
     "data": {
      "text/plain": [
       "0.7057208"
      ]
     },
     "execution_count": 28,
     "metadata": {},
     "output_type": "execute_result"
    }
   ],
   "source": [
    "df_filtered.token_count.sum() * 0.0004 / 1000\n",
    "# I will pay 70 cents for these embeddings"
   ]
  },
  {
   "cell_type": "code",
   "execution_count": 23,
   "metadata": {},
   "outputs": [],
   "source": [
    "# Create embeddings with OPENAI model\n",
    "from haystack.nodes.retriever import EmbeddingRetriever\n",
    "\n",
    "retriever = EmbeddingRetriever(\n",
    "    document_store=document_store,\n",
    "    batch_size = 8,\n",
    "    embedding_model = 'text-embedding-ada-002',\n",
    "    api_key = openai_api_key,\n",
    "    max_seq_len= 8191,\n",
    "    model_format='openai'\n",
    ")\n",
    "\n",
    "document_store.update_embeddings(retriever)\n",
    "# It took around 11 mins with FAISSDocumentStore and with GPU in Google Colab.\n",
    "# In my laptop, it took around 20 mins to calculate.\n"
   ]
  },
  {
   "cell_type": "code",
   "execution_count": 32,
   "metadata": {},
   "outputs": [
    {
     "name": "stderr",
     "output_type": "stream",
     "text": [
      "Calculating embeddings: 100%|██████████| 1250/1250 [20:38<00:00,  1.01it/s]\n",
      "Calculating embeddings: 100%|██████████| 214/214 [03:39<00:00,  1.03s/it]s/s]\n",
      "Updating embeddings: 20000 Docs [25:18, 13.17 Docs/s]                        \n"
     ]
    }
   ],
   "source": [
    "document_store.update_embeddings(retriever)\n",
    "# On top of embedding retrieval for 20 mins, it took another 20 mins to put embeddings to document store."
   ]
  },
  {
   "cell_type": "code",
   "execution_count": 20,
   "metadata": {},
   "outputs": [
    {
     "data": {
      "text/plain": [
       "11708"
      ]
     },
     "execution_count": 20,
     "metadata": {},
     "output_type": "execute_result"
    }
   ],
   "source": [
    "document_store.get_document_count()"
   ]
  },
  {
   "cell_type": "code",
   "execution_count": 21,
   "metadata": {},
   "outputs": [
    {
     "data": {
      "text/plain": [
       "11708"
      ]
     },
     "execution_count": 21,
     "metadata": {},
     "output_type": "execute_result"
    }
   ],
   "source": [
    "document_store.get_embedding_count()"
   ]
  },
  {
   "cell_type": "code",
   "execution_count": 24,
   "metadata": {},
   "outputs": [
    {
     "name": "stderr",
     "output_type": "stream",
     "text": [
      "Calculating embeddings: 100%|██████████| 1/1 [00:00<00:00,  1.90it/s]"
     ]
    },
    {
     "name": "stdout",
     "output_type": "stream",
     "text": [
      "\n",
      "Query: What is the plot of Avatar The Way of Water?\n",
      "\n",
      "{   'content': 'The title of the movie is Avatar: The Way of Water. The genre '\n",
      "               'of this movie is Science Fiction, Adventure, Action. This '\n",
      "               'movie is released on 2022-12-14 00:00:00. The budget of the '\n",
      "               'movie is $350.0 million and total revenue of the movie is '\n",
      "               '$2312.335665 million. The plot of the movie is Set more than a '\n",
      "               'decade after the events of the first film learn the story of '\n",
      "               'the Sully family (Jake Neytiri and their kids) the trouble '\n",
      "               'that follows them the lengths they go to keep each other safe '\n",
      "               'the battles they fight to stay alive and the tragedies they '\n",
      "               'endure.. Average vote of the movie is 7.751 out of 10 in '\n",
      "               '6748.0 votes.',\n",
      "    'name': 'Avatar: The Way of Water'}\n",
      "\n",
      "{   'content': 'The title of the movie is The Call of Water. The genre of this '\n",
      "               'movie is Drama, Fantasy. This movie is released on 2022-09-02 '\n",
      "               '00:00:00. The budget of the movie is $0.0 million and total '\n",
      "               'revenue of the movie is $0.0 million. The plot of the movie is '\n",
      "               'Set in Colorado’s Rocky Mountains the story follows Nadia the '\n",
      "               'night before her childhood home is sold. High on mushrooms she '\n",
      "               'and her friends inadvertently open a portal plunging them into '\n",
      "               'the astral-plane. There she must face The Horned One an '\n",
      "               'ancient keeper of the land and of the water. To return to her '\n",
      "               'body Nadia must come to terms with her responsibility to her '\n",
      "               'homeland and the water that it protects.. Average vote of the '\n",
      "               'movie is 0.0 out of 10 in 0.0 votes.',\n",
      "    'name': 'The Call of Water'}\n",
      "\n"
     ]
    },
    {
     "name": "stderr",
     "output_type": "stream",
     "text": [
      "\n"
     ]
    }
   ],
   "source": [
    "# Let's just test the retriever and document store\n",
    "from haystack.pipelines import DocumentSearchPipeline\n",
    "from haystack.utils import print_documents\n",
    "\n",
    "search_pipe = DocumentSearchPipeline(retriever=retriever)\n",
    "result = search_pipe.run(\n",
    "    query=\"What is the plot of Avatar The Way of Water?\",\n",
    "    params = {'Retriever': {'top_k': 2}}\n",
    ")\n",
    "\n",
    "print_documents(result)"
   ]
  },
  {
   "cell_type": "code",
   "execution_count": 48,
   "metadata": {},
   "outputs": [],
   "source": [
    "# Create the generator by using PromptNode to use OpenAI ChatCompletion Models\n",
    "from haystack.nodes import PromptNode\n",
    "\n",
    "generator = PromptNode(model_name_or_path=\"gpt-3.5-turbo\", api_key=openai_api_key, default_prompt_template='question-answering', max_length=256)"
   ]
  },
  {
   "cell_type": "code",
   "execution_count": 49,
   "metadata": {},
   "outputs": [],
   "source": [
    "from haystack.pipelines import GenerativeQAPipeline\n",
    "# Initiate the pipeline\n",
    "pipeline = GenerativeQAPipeline(generator = generator, retriever = retriever)\n"
   ]
  },
  {
   "cell_type": "code",
   "execution_count": 50,
   "metadata": {},
   "outputs": [],
   "source": [
    "query = \"What is the plot of the movie Knock at the Cabin and what was the revenue generated from this movie? What is the genre of this movie and accordingly, can you recommend me 3 other  popular movies in the same genre? \""
   ]
  },
  {
   "cell_type": "code",
   "execution_count": 51,
   "metadata": {},
   "outputs": [
    {
     "name": "stderr",
     "output_type": "stream",
     "text": [
      "Calculating embeddings: 100%|██████████| 1/1 [00:00<00:00,  1.59it/s]\n"
     ]
    }
   ],
   "source": [
    "response = pipeline.run(query = query)"
   ]
  },
  {
   "cell_type": "code",
   "execution_count": 52,
   "metadata": {},
   "outputs": [
    {
     "data": {
      "text/plain": [
       "'The plot of the movie Knock at the Cabin is that while vacationing at a remote cabin a young girl and her two fathers are taken hostage by four armed strangers who demand that the family make an unthinkable choice to avert the apocalypse. The total revenue generated from this movie is $52.0 million. The genre of this movie is Horror, Mystery, Thriller. Three other popular movies in the same genre are The Conjuring, Get Out, and A Quiet Place.'"
      ]
     },
     "execution_count": 52,
     "metadata": {},
     "output_type": "execute_result"
    }
   ],
   "source": [
    "response['answers'][0].answer"
   ]
  },
  {
   "cell_type": "code",
   "execution_count": null,
   "metadata": {},
   "outputs": [],
   "source": [
    "# API call to OpenAI, sometimes gives timeout error. Especially, when I try with gpt-4. "
   ]
  }
 ],
 "metadata": {
  "interpreter": {
   "hash": "2dd55184147f07f314a558b06a9f6741e02e7ef37bd55b7a085c03aa29c8ae77"
  },
  "kernelspec": {
   "display_name": "Python 3.11.2 ('haystack')",
   "language": "python",
   "name": "python3"
  },
  "language_info": {
   "codemirror_mode": {
    "name": "ipython",
    "version": 3
   },
   "file_extension": ".py",
   "mimetype": "text/x-python",
   "name": "python",
   "nbconvert_exporter": "python",
   "pygments_lexer": "ipython3",
   "version": "3.11.2"
  },
  "orig_nbformat": 4
 },
 "nbformat": 4,
 "nbformat_minor": 2
}
