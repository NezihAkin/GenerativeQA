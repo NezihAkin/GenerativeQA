{
 "cells": [
  {
   "attachments": {},
   "cell_type": "markdown",
   "metadata": {},
   "source": [
    "## QA Tutorial LangChain - OpenAI"
   ]
  },
  {
   "attachments": {},
   "cell_type": "markdown",
   "metadata": {},
   "source": [
    "This tutorial uses langchain frameworks to form qa pipeline with combination of ChromaDB and OpenAI Embeddings and Chat models."
   ]
  },
  {
   "attachments": {},
   "cell_type": "markdown",
   "metadata": {},
   "source": [
    "This tutorial requires:\n",
    "- pip install 'langchain[all]'\n",
    "- pip install qdrant-client"
   ]
  },
  {
   "cell_type": "code",
   "execution_count": 1,
   "metadata": {},
   "outputs": [],
   "source": [
    "from langchain.embeddings.openai import OpenAIEmbeddings\n",
    "from langchain.vectorstores import Qdrant\n",
    "from langchain.text_splitter import RecursiveCharacterTextSplitter\n",
    "from langchain.llms import OpenAI\n",
    "from langchain.chains import RetrievalQA"
   ]
  },
  {
   "cell_type": "code",
   "execution_count": 2,
   "metadata": {},
   "outputs": [],
   "source": [
    "import os \n",
    "import pandas as pd"
   ]
  },
  {
   "cell_type": "code",
   "execution_count": 3,
   "metadata": {},
   "outputs": [],
   "source": [
    "# Gather openai api key\n",
    "openai_api_key = os.getenv(\"OPENAI_API_KEY\")"
   ]
  },
  {
   "attachments": {},
   "cell_type": "markdown",
   "metadata": {},
   "source": [
    "### Steps to create movies dataset"
   ]
  },
  {
   "cell_type": "code",
   "execution_count": 4,
   "metadata": {},
   "outputs": [
    {
     "data": {
      "text/plain": [
       "(12573, 21)"
      ]
     },
     "execution_count": 4,
     "metadata": {},
     "output_type": "execute_result"
    }
   ],
   "source": [
    "# Create the dataset\n",
    "df = pd.read_csv(\"/Users/KT71KC/Trainings_and_trials/generative_ai/movies.csv\")\n",
    "\n",
    "df['release_date'] = pd.to_datetime(df['release_date'])\n",
    "\n",
    "# I filtered the momvies after Jan 2022. Because, end date of ChatGPT is Sep 2021. Also, I only picked movies Released after that day.\n",
    "df_filtered = df[df['release_date']>='2022-01-01']\n",
    "df_filtered = df_filtered[df_filtered['status']=='Released']\n",
    "\n",
    "# Some preprocessing\n",
    "df_filtered['credits'] = df_filtered['credits'].str.replace(\"-\",\", \")\n",
    "df_filtered['genres'] = df_filtered['genres'].str.replace(\"-\",\", \")\n",
    "\n",
    "# Create a context for the prompt from the dataset\n",
    "df_filtered['context'] = df_filtered.apply(lambda row: f\"The title of the movie is {row['title']}. The genre of this movie is {row['genres']}. This movie is released on {row['release_date']}. The budget of the movie is ${row['budget']/1000000} million and total revenue of the movie is ${row['revenue']/1000000} million. The plot of the movie is {row['overview']}. Average vote of the movie is {row['vote_average']} out of 10 in {row['vote_count']} votes.\", axis =1) \n",
    "\n",
    "df_filtered.shape"
   ]
  },
  {
   "cell_type": "code",
   "execution_count": 5,
   "metadata": {},
   "outputs": [
    {
     "data": {
      "text/html": [
       "<div>\n",
       "<style scoped>\n",
       "    .dataframe tbody tr th:only-of-type {\n",
       "        vertical-align: middle;\n",
       "    }\n",
       "\n",
       "    .dataframe tbody tr th {\n",
       "        vertical-align: top;\n",
       "    }\n",
       "\n",
       "    .dataframe thead th {\n",
       "        text-align: right;\n",
       "    }\n",
       "</style>\n",
       "<table border=\"1\" class=\"dataframe\">\n",
       "  <thead>\n",
       "    <tr style=\"text-align: right;\">\n",
       "      <th></th>\n",
       "      <th>id</th>\n",
       "      <th>title</th>\n",
       "      <th>genres</th>\n",
       "      <th>original_language</th>\n",
       "      <th>overview</th>\n",
       "      <th>popularity</th>\n",
       "      <th>production_companies</th>\n",
       "      <th>release_date</th>\n",
       "      <th>budget</th>\n",
       "      <th>revenue</th>\n",
       "      <th>...</th>\n",
       "      <th>status</th>\n",
       "      <th>tagline</th>\n",
       "      <th>vote_average</th>\n",
       "      <th>vote_count</th>\n",
       "      <th>credits</th>\n",
       "      <th>keywords</th>\n",
       "      <th>poster_path</th>\n",
       "      <th>backdrop_path</th>\n",
       "      <th>recommendations</th>\n",
       "      <th>context</th>\n",
       "    </tr>\n",
       "  </thead>\n",
       "  <tbody>\n",
       "    <tr>\n",
       "      <th>0</th>\n",
       "      <td>76600</td>\n",
       "      <td>Avatar: The Way of Water</td>\n",
       "      <td>Science Fiction, Adventure, Action</td>\n",
       "      <td>en</td>\n",
       "      <td>Set more than a decade after the events of the...</td>\n",
       "      <td>9366.788</td>\n",
       "      <td>20th Century Studios-Lightstorm Entertainment</td>\n",
       "      <td>2022-12-14</td>\n",
       "      <td>350000000.0</td>\n",
       "      <td>2.312336e+09</td>\n",
       "      <td>...</td>\n",
       "      <td>Released</td>\n",
       "      <td>Return to Pandora.</td>\n",
       "      <td>7.751</td>\n",
       "      <td>6748.0</td>\n",
       "      <td>Sam Worthington, Zoe Saldaña, Sigourney Weaver...</td>\n",
       "      <td>loss of loved one-dying and death-alien life-f...</td>\n",
       "      <td>/t6HIqrRAclMCA60NsSmeqe9RmNV.jpg</td>\n",
       "      <td>/s16H6tpK2utvwDtzZ8Qy4qm5Emw.jpg</td>\n",
       "      <td>183392-111332-702432-505642-1064215-436270-874...</td>\n",
       "      <td>The title of the movie is Avatar: The Way of W...</td>\n",
       "    </tr>\n",
       "    <tr>\n",
       "      <th>1</th>\n",
       "      <td>502356</td>\n",
       "      <td>The Super Mario Bros. Movie</td>\n",
       "      <td>Animation, Adventure, Family, Fantasy, Comedy</td>\n",
       "      <td>en</td>\n",
       "      <td>While working underground to fix a water main ...</td>\n",
       "      <td>5132.098</td>\n",
       "      <td>Universal Pictures-Illumination-Nintendo</td>\n",
       "      <td>2023-04-05</td>\n",
       "      <td>100000000.0</td>\n",
       "      <td>5.800000e+07</td>\n",
       "      <td>...</td>\n",
       "      <td>Released</td>\n",
       "      <td>NaN</td>\n",
       "      <td>7.556</td>\n",
       "      <td>332.0</td>\n",
       "      <td>Chris Pratt, Anya Taylor, Joy, Charlie Day, Ja...</td>\n",
       "      <td>video game-plumber-magic mushroom-based on vid...</td>\n",
       "      <td>/qNBAXBIQlnOThrVvA6mA2B5ggV6.jpg</td>\n",
       "      <td>/iw0Na1UBHgA5BgifwmQ8vKhlWgA.jpg</td>\n",
       "      <td>NaN</td>\n",
       "      <td>The title of the movie is The Super Mario Bros...</td>\n",
       "    </tr>\n",
       "    <tr>\n",
       "      <th>2</th>\n",
       "      <td>640146</td>\n",
       "      <td>Ant-Man and the Wasp: Quantumania</td>\n",
       "      <td>Action, Adventure, Science Fiction</td>\n",
       "      <td>en</td>\n",
       "      <td>Super-Hero partners Scott Lang and Hope van Dy...</td>\n",
       "      <td>4704.903</td>\n",
       "      <td>Marvel Studios-Kevin Feige Productions</td>\n",
       "      <td>2023-02-15</td>\n",
       "      <td>200000000.0</td>\n",
       "      <td>4.732379e+08</td>\n",
       "      <td>...</td>\n",
       "      <td>Released</td>\n",
       "      <td>Witness the beginning of a new dynasty.</td>\n",
       "      <td>6.448</td>\n",
       "      <td>1547.0</td>\n",
       "      <td>Paul Rudd, Evangeline Lilly, Jonathan Majors, ...</td>\n",
       "      <td>hero-ant-sequel-superhero-based on comic-famil...</td>\n",
       "      <td>/ngl2FKBlU4fhbdsrtdom9LVLBXw.jpg</td>\n",
       "      <td>/3CxUndGhUcZdt1Zggjdb2HkLLQX.jpg</td>\n",
       "      <td>965839-734048-267805-1035806-823999-842942-772...</td>\n",
       "      <td>The title of the movie is Ant-Man and the Wasp...</td>\n",
       "    </tr>\n",
       "    <tr>\n",
       "      <th>3</th>\n",
       "      <td>677179</td>\n",
       "      <td>Creed III</td>\n",
       "      <td>Drama, Action</td>\n",
       "      <td>en</td>\n",
       "      <td>After dominating the boxing world Adonis Creed...</td>\n",
       "      <td>3994.342</td>\n",
       "      <td>Metro-Goldwyn-Mayer-Proximity Media-Balboa Pro...</td>\n",
       "      <td>2023-03-01</td>\n",
       "      <td>75000000.0</td>\n",
       "      <td>2.690000e+08</td>\n",
       "      <td>...</td>\n",
       "      <td>Released</td>\n",
       "      <td>You can't run from your past.</td>\n",
       "      <td>7.262</td>\n",
       "      <td>1129.0</td>\n",
       "      <td>Michael B. Jordan, Tessa Thompson, Jonathan Ma...</td>\n",
       "      <td>philadelphia pennsylvania-husband wife relatio...</td>\n",
       "      <td>/cvsXj3I9Q2iyyIo95AecSd1tad7.jpg</td>\n",
       "      <td>/5i6SjyDbDWqyun8klUuCxrlFbyw.jpg</td>\n",
       "      <td>965839-267805-943822-842942-1035806-823999-107...</td>\n",
       "      <td>The title of the movie is Creed III. The genre...</td>\n",
       "    </tr>\n",
       "    <tr>\n",
       "      <th>4</th>\n",
       "      <td>631842</td>\n",
       "      <td>Knock at the Cabin</td>\n",
       "      <td>Horror, Mystery, Thriller</td>\n",
       "      <td>en</td>\n",
       "      <td>While vacationing at a remote cabin a young gi...</td>\n",
       "      <td>3422.537</td>\n",
       "      <td>Blinding Edge Pictures-Universal Pictures-Film...</td>\n",
       "      <td>2023-02-01</td>\n",
       "      <td>20000000.0</td>\n",
       "      <td>5.200000e+07</td>\n",
       "      <td>...</td>\n",
       "      <td>Released</td>\n",
       "      <td>Save your family or save humanity. Make the ch...</td>\n",
       "      <td>6.457</td>\n",
       "      <td>888.0</td>\n",
       "      <td>Dave Bautista, Jonathan Groff, Ben Aldridge, K...</td>\n",
       "      <td>based on novel or book-sacrifice-cabin-faith-e...</td>\n",
       "      <td>/dm06L9pxDOL9jNSK4Cb6y139rrG.jpg</td>\n",
       "      <td>/zWDMQX0sPaW2u0N2pJaYA8bVVaJ.jpg</td>\n",
       "      <td>1058949-646389-772515-505642-143970-667216-104...</td>\n",
       "      <td>The title of the movie is Knock at the Cabin. ...</td>\n",
       "    </tr>\n",
       "  </tbody>\n",
       "</table>\n",
       "<p>5 rows × 21 columns</p>\n",
       "</div>"
      ],
      "text/plain": [
       "       id                              title   \n",
       "0   76600           Avatar: The Way of Water  \\\n",
       "1  502356        The Super Mario Bros. Movie   \n",
       "2  640146  Ant-Man and the Wasp: Quantumania   \n",
       "3  677179                          Creed III   \n",
       "4  631842                 Knock at the Cabin   \n",
       "\n",
       "                                          genres original_language   \n",
       "0             Science Fiction, Adventure, Action                en  \\\n",
       "1  Animation, Adventure, Family, Fantasy, Comedy                en   \n",
       "2             Action, Adventure, Science Fiction                en   \n",
       "3                                  Drama, Action                en   \n",
       "4                      Horror, Mystery, Thriller                en   \n",
       "\n",
       "                                            overview  popularity   \n",
       "0  Set more than a decade after the events of the...    9366.788  \\\n",
       "1  While working underground to fix a water main ...    5132.098   \n",
       "2  Super-Hero partners Scott Lang and Hope van Dy...    4704.903   \n",
       "3  After dominating the boxing world Adonis Creed...    3994.342   \n",
       "4  While vacationing at a remote cabin a young gi...    3422.537   \n",
       "\n",
       "                                production_companies release_date   \n",
       "0      20th Century Studios-Lightstorm Entertainment   2022-12-14  \\\n",
       "1           Universal Pictures-Illumination-Nintendo   2023-04-05   \n",
       "2             Marvel Studios-Kevin Feige Productions   2023-02-15   \n",
       "3  Metro-Goldwyn-Mayer-Proximity Media-Balboa Pro...   2023-03-01   \n",
       "4  Blinding Edge Pictures-Universal Pictures-Film...   2023-02-01   \n",
       "\n",
       "        budget       revenue  ...    status   \n",
       "0  350000000.0  2.312336e+09  ...  Released  \\\n",
       "1  100000000.0  5.800000e+07  ...  Released   \n",
       "2  200000000.0  4.732379e+08  ...  Released   \n",
       "3   75000000.0  2.690000e+08  ...  Released   \n",
       "4   20000000.0  5.200000e+07  ...  Released   \n",
       "\n",
       "                                             tagline vote_average  vote_count   \n",
       "0                                 Return to Pandora.        7.751      6748.0  \\\n",
       "1                                                NaN        7.556       332.0   \n",
       "2            Witness the beginning of a new dynasty.        6.448      1547.0   \n",
       "3                      You can't run from your past.        7.262      1129.0   \n",
       "4  Save your family or save humanity. Make the ch...        6.457       888.0   \n",
       "\n",
       "                                             credits   \n",
       "0  Sam Worthington, Zoe Saldaña, Sigourney Weaver...  \\\n",
       "1  Chris Pratt, Anya Taylor, Joy, Charlie Day, Ja...   \n",
       "2  Paul Rudd, Evangeline Lilly, Jonathan Majors, ...   \n",
       "3  Michael B. Jordan, Tessa Thompson, Jonathan Ma...   \n",
       "4  Dave Bautista, Jonathan Groff, Ben Aldridge, K...   \n",
       "\n",
       "                                            keywords   \n",
       "0  loss of loved one-dying and death-alien life-f...  \\\n",
       "1  video game-plumber-magic mushroom-based on vid...   \n",
       "2  hero-ant-sequel-superhero-based on comic-famil...   \n",
       "3  philadelphia pennsylvania-husband wife relatio...   \n",
       "4  based on novel or book-sacrifice-cabin-faith-e...   \n",
       "\n",
       "                        poster_path                     backdrop_path   \n",
       "0  /t6HIqrRAclMCA60NsSmeqe9RmNV.jpg  /s16H6tpK2utvwDtzZ8Qy4qm5Emw.jpg  \\\n",
       "1  /qNBAXBIQlnOThrVvA6mA2B5ggV6.jpg  /iw0Na1UBHgA5BgifwmQ8vKhlWgA.jpg   \n",
       "2  /ngl2FKBlU4fhbdsrtdom9LVLBXw.jpg  /3CxUndGhUcZdt1Zggjdb2HkLLQX.jpg   \n",
       "3  /cvsXj3I9Q2iyyIo95AecSd1tad7.jpg  /5i6SjyDbDWqyun8klUuCxrlFbyw.jpg   \n",
       "4  /dm06L9pxDOL9jNSK4Cb6y139rrG.jpg  /zWDMQX0sPaW2u0N2pJaYA8bVVaJ.jpg   \n",
       "\n",
       "                                     recommendations   \n",
       "0  183392-111332-702432-505642-1064215-436270-874...  \\\n",
       "1                                                NaN   \n",
       "2  965839-734048-267805-1035806-823999-842942-772...   \n",
       "3  965839-267805-943822-842942-1035806-823999-107...   \n",
       "4  1058949-646389-772515-505642-143970-667216-104...   \n",
       "\n",
       "                                             context  \n",
       "0  The title of the movie is Avatar: The Way of W...  \n",
       "1  The title of the movie is The Super Mario Bros...  \n",
       "2  The title of the movie is Ant-Man and the Wasp...  \n",
       "3  The title of the movie is Creed III. The genre...  \n",
       "4  The title of the movie is Knock at the Cabin. ...  \n",
       "\n",
       "[5 rows x 21 columns]"
      ]
     },
     "execution_count": 5,
     "metadata": {},
     "output_type": "execute_result"
    }
   ],
   "source": [
    "df_filtered.head()"
   ]
  },
  {
   "cell_type": "code",
   "execution_count": 6,
   "metadata": {},
   "outputs": [
    {
     "data": {
      "text/plain": [
       "Index(['id', 'title', 'genres', 'original_language', 'overview', 'popularity',\n",
       "       'production_companies', 'release_date', 'budget', 'revenue', 'runtime',\n",
       "       'status', 'tagline', 'vote_average', 'vote_count', 'credits',\n",
       "       'keywords', 'poster_path', 'backdrop_path', 'recommendations',\n",
       "       'context'],\n",
       "      dtype='object')"
      ]
     },
     "execution_count": 6,
     "metadata": {},
     "output_type": "execute_result"
    }
   ],
   "source": [
    "df_filtered.columns"
   ]
  },
  {
   "cell_type": "code",
   "execution_count": 7,
   "metadata": {},
   "outputs": [],
   "source": [
    "df_test = df_filtered[['title','genres','overview','revenue','vote_average', 'vote_count', 'credits', 'context']]\n",
    "df_test.to_csv('movies_dataset.csv')"
   ]
  },
  {
   "cell_type": "code",
   "execution_count": 8,
   "metadata": {},
   "outputs": [
    {
     "data": {
      "text/plain": [
       "(12573, 8)"
      ]
     },
     "execution_count": 8,
     "metadata": {},
     "output_type": "execute_result"
    }
   ],
   "source": [
    "df_test.shape"
   ]
  },
  {
   "attachments": {},
   "cell_type": "markdown",
   "metadata": {},
   "source": [
    "### Forming QA System"
   ]
  },
  {
   "cell_type": "code",
   "execution_count": 5,
   "metadata": {},
   "outputs": [
    {
     "data": {
      "text/plain": [
       "(12573, 9)"
      ]
     },
     "execution_count": 5,
     "metadata": {},
     "output_type": "execute_result"
    }
   ],
   "source": [
    "# Load the dataset\n",
    "df = pd.read_csv(\"movies_dataset.csv\")\n",
    "df.shape"
   ]
  },
  {
   "cell_type": "code",
   "execution_count": 6,
   "metadata": {},
   "outputs": [],
   "source": [
    "# Load the dataframe \n",
    "from langchain.document_loaders import DataFrameLoader\n",
    "loader = DataFrameLoader(df, page_content_column='context')\n",
    "data = loader.load()"
   ]
  },
  {
   "cell_type": "code",
   "execution_count": 8,
   "metadata": {},
   "outputs": [],
   "source": [
    "# Arrange the text to upload DocumentStore\n",
    "text_splitter = RecursiveCharacterTextSplitter.from_tiktoken_encoder(chunk_size=1000, chunk_overlap=0)\n",
    "texts = text_splitter.split_documents(data)"
   ]
  },
  {
   "cell_type": "code",
   "execution_count": 10,
   "metadata": {},
   "outputs": [],
   "source": [
    "\n",
    "# Get Embeddings and write them to Document Store\n",
    "embeddings = OpenAIEmbeddings(openai_api_key=openai_api_key)\n",
    "docsearch = Qdrant.from_documents(texts, \n",
    "                                  embeddings,\n",
    "                                  location = \":memory:\", # Local mode with in-memory storage only\n",
    "                                  collection_name=\"my_documents\")"
   ]
  },
  {
   "cell_type": "code",
   "execution_count": 11,
   "metadata": {},
   "outputs": [],
   "source": [
    "from langchain.chat_models import ChatOpenAI\n",
    "qa = RetrievalQA.from_chain_type(llm=ChatOpenAI(model_name='gpt-3.5-turbo'), chain_type=\"stuff\", retriever=docsearch.as_retriever(), return_source_documents = True)"
   ]
  },
  {
   "cell_type": "code",
   "execution_count": 12,
   "metadata": {},
   "outputs": [],
   "source": [
    "query = \"\"\"What is the plot of the movie Knock at the Cabin \n",
    "and what was the revenue generated from this movie? \n",
    "What is the genre of this movie and accordingly, can you recommend me 3 other popular movies in the same genre by adding one sentence summary of plots of these movies? \"\"\"\n",
    "result = qa({\"query\":query})"
   ]
  },
  {
   "cell_type": "code",
   "execution_count": 13,
   "metadata": {},
   "outputs": [
    {
     "data": {
      "text/plain": [
       "\"The plot of the movie Knock at the Cabin is about a family consisting of a young girl and her two fathers who are taken hostage by four armed strangers while vacationing at a remote cabin. The strangers demand that the family make an unthinkable choice to avert the apocalypse, and the family must decide what they believe before all is lost. The total revenue generated from this movie is $52.0 million.\\n\\nThe genre of this movie is Horror, Mystery, Thriller. Based on this genre, I can recommend the following three popular movies:\\n\\n1. Get Out (2017) - A young African-American man visits his white girlfriend's family estate, only to become ensnared in a more sinister real reason for the invitation.\\n2. A Quiet Place (2018) - In a post-apocalyptic world, a family is forced to live in silence while hiding from monsters with ultra-sensitive hearing.\\n3. The Silence of the Lambs (1991) - A young FBI cadet must confide in an incarcerated and manipulative killer to receive his help on catching another serial killer who skins his victims.\""
      ]
     },
     "execution_count": 13,
     "metadata": {},
     "output_type": "execute_result"
    }
   ],
   "source": [
    "result[\"result\"]"
   ]
  },
  {
   "cell_type": "code",
   "execution_count": 14,
   "metadata": {},
   "outputs": [],
   "source": [
    "query = \"\"\"What is the plot of the movie Knock at the Cabin \n",
    "and what was the revenue generated from this movie? \n",
    "\"\"\"\n",
    "result = qa({\"query\":query})"
   ]
  },
  {
   "cell_type": "code",
   "execution_count": 15,
   "metadata": {},
   "outputs": [
    {
     "data": {
      "text/plain": [
       "'The plot of the movie Knock at the Cabin is about a young girl and her two fathers who are taken hostage by four armed strangers while vacationing at a remote cabin. The kidnappers demand that the family make an unthinkable choice to avert the apocalypse. With limited access to the outside world, the family must decide what they believe before all is lost.\\n\\nThe total revenue generated from the movie Knock at the Cabin is $52.0 million.'"
      ]
     },
     "execution_count": 15,
     "metadata": {},
     "output_type": "execute_result"
    }
   ],
   "source": [
    "result[\"result\"]"
   ]
  },
  {
   "cell_type": "code",
   "execution_count": null,
   "metadata": {},
   "outputs": [],
   "source": []
  }
 ],
 "metadata": {
  "interpreter": {
   "hash": "be55fc01ef80a45f2681bafdaa6f1e71114de861c48a45dfa6a4a8ec23140440"
  },
  "kernelspec": {
   "display_name": "Python 3.11.2 ('langchain')",
   "language": "python",
   "name": "python3"
  },
  "language_info": {
   "codemirror_mode": {
    "name": "ipython",
    "version": 3
   },
   "file_extension": ".py",
   "mimetype": "text/x-python",
   "name": "python",
   "nbconvert_exporter": "python",
   "pygments_lexer": "ipython3",
   "version": "3.11.2"
  },
  "orig_nbformat": 4
 },
 "nbformat": 4,
 "nbformat_minor": 2
}
